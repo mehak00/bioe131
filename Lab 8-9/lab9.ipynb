{
 "cells": [
  {
   "cell_type": "markdown",
   "metadata": {},
   "source": [
    "<h2>Lab 8 & 9</h2>"
   ]
  },
  {
   "cell_type": "markdown",
   "metadata": {},
   "source": [
    "Mehak Sharma  |  BioE 131  |  Fall 2019"
   ]
  },
  {
   "cell_type": "markdown",
   "metadata": {},
   "source": [
    "<h3>Genome assembly with SPAdes</h3>\n",
    "We ran the hybrid genome assembler SPAdes in terminal. We use high-quality Illumina short read sets with as well as a high error rate PacBio long-read set.\n",
    "\n",
    "Used the following SPAdes command:\n",
    "\n",
    "- ~$ spades.py -1 /../../data/lab8/illumina_reads_R1.fastq -2 /../../data//lab8/illumina_reads_R2.fastq  --pacbio/../../data/lab8/pacbio_reads.fastq -t 1 -o spades_output\n",
    "\n",
    "\n",
    "Why do we expect short reads to produce a more fragmented assembly than long reads? \n",
    "- In alignment scoring scheme, short reads would be more likely to result in high match score, which have more possibility for producing more fragmented assembly.\n",
    "\n",
    "Why does a single-molecule sequencing like PacBio have a higher error rate than Illumina? \n",
    "- PacBio has more long reads compared to programs like Illumina, therefore have higher error rates.\n",
    "\n",
    "\n",
    "Unfortunately, although I left the process running overnight, this assembly failed and I used the preassembled genome stored in the lab9data folder.\n",
    "\n",
    "The output includes reads corrected reads, scaffolds (sets of contigs stitched in order), contigs (contiguous sequences), and SPAdes assembly graphs.\n",
    "\n",
    "\n",
    "<h3>Assembly statistics</h3>\n",
    "\n",
    "Running <b>assembly-stats</b> on the contigs.fasta and scaffolds.fasta files in /data/Lab9_data generated the following statistics for the genome assembly:\n",
    "\n"
   ]
  },
  {
   "cell_type": "raw",
   "metadata": {},
   "source": [
    "Statistics for contigs.fasta:\n",
    "\n",
    "sum = 6680581, n = 180, ave = 37114.34, largest = 687571\n",
    "N50 = 234690, n = 10\n",
    "N60 = 202142, n = 13\n",
    "N70 = 154232, n = 17\n",
    "N80 = 103366, n = 22\n",
    "N90 = 81821, n = 29\n",
    "N100 = 128, n = 180\n",
    "N_count = 0\n",
    "Gaps = 0\n",
    "\n",
    "-------------------------------------------------------------------------------\n",
    "\n",
    "Statistics for scaffolds.fasta\n",
    "\n",
    "sum = 6680345, n = 176, ave = 37956.51, largest = 687571\n",
    "N50 = 234690, n = 10\n",
    "N60 = 202142, n = 13\n",
    "N70 = 154232, n = 17\n",
    "N80 = 103366, n = 22\n",
    "N90 = 83515, n = 29\n",
    "N100 = 129, n = 176\n",
    "N_count = 20\n",
    "Gaps = 2"
   ]
  },
  {
   "cell_type": "markdown",
   "metadata": {},
   "source": [
    "Why is N50 is useful statistic to calculate? Why not just list the mean or median contig length? In your assembly, are scaffolds longer than contigs, or are scaffolds approximately equal to contigs? \n",
    "\n",
    "- The N50 statistic is useful because it is a median statistic that assigns greater weight to longer contigs, so that instead of guessing as to the distribution of longer contigs in an assembly, we have a better idea of how many contigs are greater than the actual mean/median. \n",
    "- In my assembly, scaffolds are approximately equal to contigs, which we can see as their N50-N80 values are generally equal, with a slight difference in the N90 values."
   ]
  },
  {
   "cell_type": "markdown",
   "metadata": {},
   "source": [
    "Extra Credit: \n",
    "The number of times a contig in your assembly was covered by the reads used to assemble it (“coverage”) is listed at the end of the contig name in contigs.fasta. Extract the coverage from each FASTA header and plot a histogram of coverage for all contigs in your assembly. Is coverage uniformly distributed? Does it look Gaussian? Is it bimodal or trimodal? What explains the presence of contigs with coverage an integer multiple of the mean coverage? "
   ]
  },
  {
   "cell_type": "code",
   "execution_count": 4,
   "metadata": {},
   "outputs": [
    {
     "ename": "FileNotFoundError",
     "evalue": "[Errno 2] No such file or directory: 'contigs.fasta'",
     "output_type": "error",
     "traceback": [
      "\u001b[0;31m---------------------------------------------------------------------------\u001b[0m",
      "\u001b[0;31mFileNotFoundError\u001b[0m                         Traceback (most recent call last)",
      "\u001b[0;32m<ipython-input-4-87988a119df2>\u001b[0m in \u001b[0;36m<module>\u001b[0;34m\u001b[0m\n\u001b[1;32m      1\u001b[0m \u001b[0;32mimport\u001b[0m \u001b[0mmatplotlib\u001b[0m\u001b[0;34m.\u001b[0m\u001b[0mpyplot\u001b[0m \u001b[0;32mas\u001b[0m \u001b[0mplt\u001b[0m\u001b[0;34m\u001b[0m\u001b[0;34m\u001b[0m\u001b[0m\n\u001b[1;32m      2\u001b[0m \u001b[0;34m\u001b[0m\u001b[0m\n\u001b[0;32m----> 3\u001b[0;31m \u001b[0mfile\u001b[0m \u001b[0;34m=\u001b[0m \u001b[0mopen\u001b[0m\u001b[0;34m(\u001b[0m\u001b[0;34m'contigs.fasta'\u001b[0m\u001b[0;34m,\u001b[0m\u001b[0;34m'r'\u001b[0m\u001b[0;34m)\u001b[0m\u001b[0;34m\u001b[0m\u001b[0;34m\u001b[0m\u001b[0m\n\u001b[0m\u001b[1;32m      4\u001b[0m \u001b[0mcontigs\u001b[0m \u001b[0;34m=\u001b[0m \u001b[0;34m[\u001b[0m\u001b[0;34m]\u001b[0m\u001b[0;34m\u001b[0m\u001b[0;34m\u001b[0m\u001b[0m\n\u001b[1;32m      5\u001b[0m \u001b[0;34m\u001b[0m\u001b[0m\n",
      "\u001b[0;31mFileNotFoundError\u001b[0m: [Errno 2] No such file or directory: 'contigs.fasta'"
     ]
    }
   ],
   "source": [
    "import matplotlib.pyplot as plt\n",
    "\n",
    "file = open('contigs.fasta','r')\n",
    "contigs = []\n",
    "\n",
    "for line in file.read().split('\\n'):\n",
    "    if len(line) is 0 :\n",
    "        break\n",
    "    if line[0] == '>':\n",
    "        tmp = line[line.index('cov')+4:-1]\n",
    "        contigs.append(float(tmp))\n",
    "\n",
    "print(sum(contigs)/len((contig_list)))\n",
    "plt.xlabel('Coverage')\n",
    "plt.ylabel('Count')\n",
    "\n",
    "p = plt.hist(contigs,bins = 100)\n",
    "plt.show()\n",
    "\n",
    "for i in contigs:\n",
    "    if i > 50.0:\n",
    "        contigs.remove(i)\n",
    "        \n",
    "contigs[-1]=0\n",
    "        \n",
    "plt.xlabel('Coverage below 50')\n",
    "plt.ylabel('Count')\n",
    "p = plt.hist(contigs,bins = 100)\n",
    "plt.show()"
   ]
  },
  {
   "cell_type": "markdown",
   "metadata": {},
   "source": [
    "<h3>Identify the taxon from which your genome originated</h3>"
   ]
  },
  {
   "cell_type": "markdown",
   "metadata": {},
   "source": [
    "Steps:\n",
    "- First, run the rna_hmm3.pyprogram on your assembled contigs to locate rRNA genes.\n",
    "\n",
    "rna_hmm3.py -i contigs.fasta =o locate_rna.gff\n",
    "\n",
    "- Next, use bedtools getfastato extract nucleic acid sequences of the 16S rRNA genes from your assembly.\n",
    "\n",
    "bedtools getfasta -fi contigs.fasta -bed contigs_hmm.gff\n",
    "\n",
    "- Finally, open your web browser and head over to Ribosomal Database Project’s SeqMatch tool. Upload the resulting FASTA file from the previous step. This program will attempt to identify the 16S sequences as precisely as possible by comparing them to a database of high-quality, curated sequences, obtained from known bacteria. \n",
    "\n",
    "The SeqMatch tool returned the most significant alignments to 16S ribosomal RNA genes for strains in the Pseudomonas genus, with highest scores for specie lini, silesiensis, and frederiksbergensis. Thus, I narrowed down my search to the Pseudomonas genus, as none of the results matched any other genus of bacteria."
   ]
  },
  {
   "cell_type": "markdown",
   "metadata": {},
   "source": [
    "<h3>Genome Annotation</h3>\n",
    "\n",
    "I sent in the genome via file contigs.fasta to genome annotation tools RAST and BASys, and got the following results:\n"
   ]
  },
  {
   "cell_type": "markdown",
   "metadata": {},
   "source": [
    "<h3>Analysis</h3>\n",
    "\n",
    "Questions to consider:\n",
    "- What environment do relatives of your bacterium live in? Is there evidence of adaptation tothis environment in the genome?\n",
    "- Based on its genome, is your bacterium auxotrophic for any amino acids? Are its closestrelatives also auxotrophic for these?\n",
    "- Horizontal gene transfer is common among bacteria. Is there any evidence for HGT in yourgenome?\n",
    "- CRISPR-Cas9 is so hot right now. Does your genome have a CRISPR system? Can youdetermine where the spacer sequences originated from?\n",
    "- Does your genome encode any known bacteriocins, antibiotics, or toxins?\n",
    "- Make an argument for why or why not your bacterium would be considered a humanpathogen, using the genome and your research as evidence.\n",
    "- Does your genome encode any known antibiotic resistance genes? Do you expect it to besusceptible to penicillin, tetracycline, or chloramphenicol?"
   ]
  }
 ],
 "metadata": {
  "kernelspec": {
   "display_name": "Python 3",
   "language": "python",
   "name": "python3"
  },
  "language_info": {
   "codemirror_mode": {
    "name": "ipython",
    "version": 3
   },
   "file_extension": ".py",
   "mimetype": "text/x-python",
   "name": "python",
   "nbconvert_exporter": "python",
   "pygments_lexer": "ipython3",
   "version": "3.7.3"
  }
 },
 "nbformat": 4,
 "nbformat_minor": 2
}

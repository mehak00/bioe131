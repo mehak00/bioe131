{
 "cells": [
  {
   "cell_type": "markdown",
   "metadata": {},
   "source": [
    "<h2>Lab 6</h2>"
   ]
  },
  {
   "cell_type": "markdown",
   "metadata": {},
   "source": [
    "<h4>Mehak Sharma | BioE 131 | Fall 2019</h4>"
   ]
  },
  {
   "cell_type": "code",
   "execution_count": 10,
   "metadata": {},
   "outputs": [],
   "source": [
    "import subprocess\n",
    "import numpy as np\n",
    "import sqlite3\n",
    "import pandas as pd"
   ]
  },
  {
   "cell_type": "markdown",
   "metadata": {},
   "source": [
    "<h3>Align the reads to the human genome</h3>"
   ]
  },
  {
   "cell_type": "raw",
   "metadata": {},
   "source": [
    "Command: bowtie2 -p 4 --very-fast --no-unal -x /data/references/hg19/hg19 -U /data/Lab6_data/mixed_reads1.fastq -S output.sam --un unaligned.fastq\n",
    "\n",
    "Database: /data/references/hg19/hg19    \n",
    "\n",
    "Input read: /data/Lab6_data/*.fastq  \n",
    "\n",
    "Output message: 1285441 reads; of these:\n",
    "  1285441 (100.00%) were unpaired; of these:\n",
    "    1030006 (80.13%) aligned 0 times\n",
    "    234344 (18.23%) aligned exactly 1 time\n",
    "    21091 (1.64%) aligned >1 times\n",
    "19.87% overall alignment rate "
   ]
  },
  {
   "cell_type": "markdown",
   "metadata": {},
   "source": [
    "\n",
    "\n",
    "<b>What percentage of your sequencing library came from contaminating human DNA?</b>\n",
    "19.87% of the reads aligned to the human genome so 19.87% of the sequencing library came from contaminating human DNA."
   ]
  },
  {
   "cell_type": "markdown",
   "metadata": {},
   "source": [
    "<h3>Align the reads to the S. oneidensis reference genome</h3>"
   ]
  },
  {
   "cell_type": "raw",
   "metadata": {},
   "source": [
    "Command: bowtie2 -p 4 --very-fast --no-unal -x /data/references/shewanella_oneidensis_mr-1/shewanella_oneidensis_mr-1 -U unaligned.fastq -S output2.sam --un unaligned2.fastq\n",
    "\n",
    "Database: /data/references/shewanella_oneidensis_mr-1/shewanella_oneidensis_mr-1\n",
    "\n",
    "Input read: /unaligned.fastq  \n",
    "unaligned.fastq: Contains reads that did not align to the Shewanella oneidensis reference genome\n",
    "\n",
    "Output message: 1030006 reads; of these:\n",
    "  1030006 (100.00%) were unpaired; of these:\n",
    "    268017 (26.02%) aligned 0 times\n",
    "    710825 (69.01%) aligned exactly 1 time\n",
    "    51164 (4.97%) aligned >1 times\n",
    "73.98% overall alignment rate\n",
    "unaligned2.fastq: Contains reads that did not align to the Shewanella oneidensis reference genome"
   ]
  },
  {
   "cell_type": "markdown",
   "metadata": {},
   "source": [
    "\n",
    "<b>What percentage of your filtered library didn’t align to the reference genome?</b>\n",
    "\n",
    "26.02% of the reads aligned 0 times\n",
    "\n",
    "<b>If you use --very-sensitive instead of --very-fast, does this percentage increase or decrease?</b>\n",
    "\n",
    "Using --very-sensitive and --very-fast outputs a slightly higher percentage -- 74.13% instead of 73.98%. See below!\n"
   ]
  },
  {
   "cell_type": "raw",
   "metadata": {},
   "source": [
    "\n",
    "Command: bowtie2 -p 4 --very-sensitive --no-unal -x /data/references/shewanella_oneidensis_mr-1/shewanella_oneidensis_mr-1 -U unaligned.fastq -S output2.sam --un unaligned2.fastq\n",
    "\n",
    "Database: /data/references/shewanella_oneidensis_mr-1/shewanella_oneidensis_mr-1 \n",
    "\n",
    "Input read: /unaligned.fastq  \n",
    "\n",
    "unaligned2.fastq: Contains reads that did not align to the Shewanella oneidensis reference genome\n",
    "\n",
    "Output message: 1030006 reads; of these:\n",
    "  1030006 (100.00%) were unpaired; of these:\n",
    "    266514 (25.87%) aligned 0 times\n",
    "    711311 (69.06%) aligned exactly 1 time\n",
    "    52181 (5.07%) aligned >1 times\n",
    "74.13% overall alignment rate\n",
    "unaligned2.fastq: Contains reads that did not align to the Shewanella oneidensis reference genome    "
   ]
  },
  {
   "cell_type": "markdown",
   "metadata": {},
   "source": [
    "<h3>Generate a coverage plot</h3>"
   ]
  },
  {
   "cell_type": "markdown",
   "metadata": {},
   "source": [
    "Instructions: At this point, you should have a SAM file containing the alignment of your filtered reads to the S. oneidensis reference genome. Referring to the PowerPoint, please convert this file to BAM,sort it, index it, and use “depth” to generate a file containing the depth of coverage for everyposition in the reference genome.What is the min, max, and mean coverage across all positions?Once you have your depth file, load it into iPython and use matplotlib to generate a scatter plot where the x-axis is position in the genome and the y-axis is depth of coverage. Next, using the same data, generate a coverage histogram. We want to see what the distribution of coverage depth looks like. "
   ]
  },
  {
   "cell_type": "markdown",
   "metadata": {},
   "source": [
    "-> Convert SAM to BAM, sort BAM file by coordinates, generate an index by alignment coordinates, and create .tab file with coordinates and the number of times a read is aligned to each coordinate.\n",
    "\n",
    "<b>Commands for Conversion:</b>\n",
    "\n",
    "samtools view -b output2.sam > output2.bam\n",
    "\n",
    "samtools sort output2.bam > output2.sorted.bam\n",
    "\n",
    "samtools index output2.sorted.bam\n",
    "\n",
    "samtools depth output2.sorted.bam > depths.tab\n",
    "\n",
    "\n"
   ]
  },
  {
   "cell_type": "code",
   "execution_count": 11,
   "metadata": {},
   "outputs": [],
   "source": [
    "depths = pd.read_csv('depths.tab', sep='\\t', lineterminator='\\n', header = None, names = ['Read', 'Position', 'Depth'])"
   ]
  },
  {
   "cell_type": "code",
   "execution_count": 12,
   "metadata": {},
   "outputs": [
    {
     "name": "stdout",
     "output_type": "stream",
     "text": [
      "Mean: 37.49999103545206\n",
      "Max: 263\n",
      "Min: 1\n"
     ]
    }
   ],
   "source": [
    "print('Mean: ' + str(np.mean(depths['Depth'])))\n",
    "print('Max: ' + str(max(depths['Depth'])))\n",
    "print('Min: ' + str(min(depths['Depth'])))"
   ]
  },
  {
   "cell_type": "code",
   "execution_count": 18,
   "metadata": {},
   "outputs": [],
   "source": [
    "import matplotlib.pyplot as plt"
   ]
  },
  {
   "cell_type": "code",
   "execution_count": 19,
   "metadata": {},
   "outputs": [
    {
     "data": {
      "image/png": "[encoded data removed]",
      "text/plain": [
       "<Figure size 432x288 with 1 Axes>"
      ]
     },
     "metadata": {
      "needs_background": "light"
     },
     "output_type": "display_data"
    }
   ],
   "source": [
    "x = depths['Position']\n",
    "y = depths['Depth']\n",
    "plt.xlabel('Position in Genome') \n",
    "plt.ylabel('Depth of Coverage') \n",
    "plt.plot(x, y)\n",
    "plt.show()"
   ]
  },
  {
   "cell_type": "code",
   "execution_count": 32,
   "metadata": {},
   "outputs": [
    {
     "data": {
      "text/plain": [
       "(array([  1497.,   7260.,  20237.,  34153.,  56068.,  93654., 148837.,\n",
       "        234576., 332107., 421934., 497754., 539640., 544758., 505434.,\n",
       "        430289., 344393., 261192., 194727., 134839.,  94702.,  64247.,\n",
       "         39833.,  27035.,  18765.,  13207.,  11130.,   8619.,   6512.,\n",
       "          5708.,   4898.,   3898.,   3647.,   3206.,   2803.,   2154.,\n",
       "          2179.,   1938.,   1840.,   1872.,   1530.,   1132.,   1304.]),\n",
       " array([  0,   3,   6,   9,  12,  15,  18,  21,  24,  27,  30,  33,  36,\n",
       "         39,  42,  45,  48,  51,  54,  57,  60,  63,  66,  69,  72,  75,\n",
       "         78,  81,  84,  87,  90,  93,  96,  99, 102, 105, 108, 111, 114,\n",
       "        117, 120, 123, 126]),\n",
       " <a list of 42 Patch objects>)"
      ]
     },
     "execution_count": 32,
     "metadata": {},
     "output_type": "execute_result"
    },
    {
     "data": {
      "image/png": "[encoded data removed]",
      "text/plain": [
       "<Figure size 432x288 with 1 Axes>"
      ]
     },
     "metadata": {
      "needs_background": "light"
     },
     "output_type": "display_data"
    }
   ],
   "source": [
    "plt.xlabel('Depth of Coverage')\n",
    "plt.ylabel('Count')\n",
    "plt.hist(y, bins=[i for i in range(129) if i % 3 == 0], range = 100)"
   ]
  },
  {
   "cell_type": "markdown",
   "metadata": {},
   "source": [
    "Extra Credit 1: Generate the same two plots using the SAM file you produced aligning the reads to the human reference genome. Instead of using “Position in Genome” (the plot on the left in red, above), plot the average depth (total depth / length of chromosome) for each human chromosome: chr1-22, X, and Y. What biological sex is Jamie? \n",
    "\n",
    "Extra Credit 2: Try to “zoom in” on regions that seem to have higher coverage than average. Can you figure out what genes are in those regions? You’ll have to extract the sequence from those regions and BLAST it. "
   ]
  },
  {
   "cell_type": "code",
   "execution_count": null,
   "metadata": {},
   "outputs": [],
   "source": [
    "data = pd.read_csv('depths.tab', names=['y','x'])\n",
    "\n",
    "plt.title(\"Higher Cverage than Avg Region 1\")\n",
    "\n",
    "plt.ylabel('Depth of Coverage')\n",
    "plt.xlabel('Postion in Genome')\n",
    "plt.xlim(3.698e6, 3.701e6)\n",
    "plt.scatter(x = data['x'], y = data['y'], s = 1, color = 'blue')\n",
    "plt.show()"
   ]
  },
  {
   "cell_type": "code",
   "execution_count": null,
   "metadata": {},
   "outputs": [],
   "source": []
  }
 ],
 "metadata": {
  "kernelspec": {
   "display_name": "Python 3",
   "language": "python",
   "name": "python3"
  },
  "language_info": {
   "codemirror_mode": {
    "name": "ipython",
    "version": 3
   },
   "file_extension": ".py",
   "mimetype": "text/x-python",
   "name": "python",
   "nbconvert_exporter": "python",
   "pygments_lexer": "ipython3",
   "version": "3.7.3"
  }
 },
 "nbformat": 4,
 "nbformat_minor": 2
}
